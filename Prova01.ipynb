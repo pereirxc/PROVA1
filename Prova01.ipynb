{
 "cells": [
  {
   "cell_type": "code",
   "execution_count": 100,
   "id": "a58b9943-b403-49ba-b2a3-cf4deac6c028",
   "metadata": {},
   "outputs": [
    {
     "name": "stdin",
     "output_type": "stream",
     "text": [
      "Digite o primeiro número:  9\n",
      "Digite o segundo número:  8\n",
      "Digite o terceiro número:  2\n"
     ]
    },
    {
     "name": "stdout",
     "output_type": "stream",
     "text": [
      "36.0\n"
     ]
    }
   ],
   "source": [
    "valor1 = int(input(\"Digite o primeiro número: \"))\n",
    "valor2 = int(input(\"Digite o segundo número: \"))\n",
    "valor3 = int(input(\"Digite o terceiro número: \"))\n",
    "\n",
    "while valor1 < 0:\n",
    "    valor1 = int(input(\"Digite o primeiro número: \"))\n",
    "    if valor1 >= 0:\n",
    "        break\n",
    "    if valor1 < 0:\n",
    "        print(\"Tente novamente\")\n",
    "        continue\n",
    "while valor2 < 0:\n",
    "    valor2 = int(input(\"Digite o segundo número: \"))\n",
    "    if valor2 >= 0:\n",
    "        break\n",
    "    if valor2 < 0:\n",
    "        print(\"Tente novamente\")\n",
    "        continue\n",
    "while valor3 < 0:\n",
    "    valor3 = int(input(\"Digite o terceiro número: \"))\n",
    "    if valor3 >= 0:\n",
    "        break\n",
    "    if valor3 < 0:\n",
    "        print(\"Tente novamente\")\n",
    "        continue\n",
    "    \n",
    "if valor1 >= valor2:\n",
    "    if valor1 >= valor3:\n",
    "        if valor2 > valor3:\n",
    "            print(valor1 * valor2 / 2 )\n",
    "    if valor1 >= valor3:\n",
    "        if valor3 > valor2:\n",
    "            print(valor1 * valor3 / 2 )\n",
    "if valor2 > valor1:\n",
    "    if valor2 >= valor3:\n",
    "        if valor1 < valor3:\n",
    "            print(valor2 * valor3 / 2)\n",
    "    if valor2 < valor3:\n",
    "        if valor1 <= valor3:\n",
    "            print(valor2 * valor3 / 2)\n"
   ]
  }
 ],
 "metadata": {
  "kernelspec": {
   "display_name": "Python [conda env:base] *",
   "language": "python",
   "name": "conda-base-py"
  },
  "language_info": {
   "codemirror_mode": {
    "name": "ipython",
    "version": 3
   },
   "file_extension": ".py",
   "mimetype": "text/x-python",
   "name": "python",
   "nbconvert_exporter": "python",
   "pygments_lexer": "ipython3",
   "version": "3.12.7"
  }
 },
 "nbformat": 4,
 "nbformat_minor": 5
}
